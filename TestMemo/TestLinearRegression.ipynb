{
 "cells": [
  {
   "cell_type": "markdown",
   "source": [
    "# 직접 구현한 선형회귀 모델\n",
    "\n",
    "## 데이터 생성 및 초기값 세팅"
   ],
   "metadata": {
    "collapsed": false
   }
  },
  {
   "cell_type": "code",
   "execution_count": 11,
   "metadata": {
    "collapsed": true
   },
   "outputs": [],
   "source": [
    "import numpy as np\n",
    "\n",
    "# 선형 모델 정의\n",
    "def predict(_x,_w):\n",
    "    return _x * _w # 예측값 : 단순 선형 모델 Y = w*X\n",
    "\n",
    "#손실 함수 정의(평균 제곱 오차, MSE)\n",
    "def loss(_y,_y_pred):\n",
    "    return((_y_pred-_y) ** 2).mean() # 손실 계산\n",
    "\n",
    "# 기울기 계산\n",
    "def gradient(X,y,y_pred):\n",
    "    return np.dot(2 * (y_pred-y),X)/len(y) #평균 기울기\n",
    "\n",
    "#1. 데이터 생성\n",
    "xdata = np.array([1,2,3,4],dtype=np.float32) # 입력 데이터(특성)\n",
    "ydata = np.array([2,4,6,8],dtype=np.float32) # 출력 데이터(목표값)"
   ]
  },
  {
   "cell_type": "markdown",
   "source": [
    "## 선형모델 / 손실함수 / 기울기 계산 함수 정의\n"
   ],
   "metadata": {
    "collapsed": false
   }
  },
  {
   "cell_type": "code",
   "execution_count": 12,
   "outputs": [
    {
     "name": "stdout",
     "output_type": "stream",
     "text": [
      "Epoch 10 : Weight = 1.6063,Loss=1.6094\n",
      "Epoch 20 : Weight = 1.9225,Loss=0.0624\n",
      "Epoch 30 : Weight = 1.9847,Loss=0.0024\n",
      "Epoch 40 : Weight = 1.9970,Loss=0.0001\n",
      "Epoch 50 : Weight = 1.9994,Loss=0.0000\n",
      "Epoch 60 : Weight = 1.9999,Loss=0.0000\n",
      "Epoch 70 : Weight = 2.0000,Loss=0.0000\n",
      "Epoch 80 : Weight = 2.0000,Loss=0.0000\n",
      "Epoch 90 : Weight = 2.0000,Loss=0.0000\n",
      "Epoch 100 : Weight = 2.0000,Loss=0.0000\n"
     ]
    }
   ],
   "source": [
    "#2. 초기 가중치 설정\n",
    "w = 0.0 #가중치 초기값\n",
    "learning_rate = 0.01 #학습률\n",
    "n_epochs = 100 # 반복 횟수 (에포크)\n",
    "\n",
    "#경사하강법 알고리즘\n",
    "for epoch in range(n_epochs) :\n",
    "    #예측값 계산\n",
    "    y_pred = predict(xdata,w)\n",
    "    #손실계산\n",
    "    l = loss(ydata,y_pred)\n",
    "    #기울기 계산\n",
    "    grad = gradient(xdata,ydata,y_pred)\n",
    "    #가중치 업데이트\n",
    "    w -= learning_rate * grad # w = w-(learning_rate * 기울기)\n",
    "\n",
    "    if(epoch +1) % 10 == 0:\n",
    "        print(f\"Epoch {epoch +1} : Weight = {w:.4f},Loss={l:.4f}\")\n"
   ],
   "metadata": {
    "collapsed": false
   }
  },
  {
   "cell_type": "markdown",
   "source": [],
   "metadata": {
    "collapsed": false
   }
  },
  {
   "cell_type": "code",
   "execution_count": null,
   "outputs": [],
   "source": [],
   "metadata": {
    "collapsed": false
   }
  }
 ],
 "metadata": {
  "kernelspec": {
   "display_name": "Python 3",
   "language": "python",
   "name": "python3"
  },
  "language_info": {
   "codemirror_mode": {
    "name": "ipython",
    "version": 2
   },
   "file_extension": ".py",
   "mimetype": "text/x-python",
   "name": "python",
   "nbconvert_exporter": "python",
   "pygments_lexer": "ipython2",
   "version": "2.7.6"
  }
 },
 "nbformat": 4,
 "nbformat_minor": 0
}
